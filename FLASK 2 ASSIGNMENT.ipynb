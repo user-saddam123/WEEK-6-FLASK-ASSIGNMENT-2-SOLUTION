{
 "cells": [
  {
   "cell_type": "markdown",
   "id": "c8787fef-8e14-49b6-b097-2fd64daf908b",
   "metadata": {},
   "source": [
    "Flask-2 Assignment Solution"
   ]
  },
  {
   "cell_type": "markdown",
   "id": "8dcfe17f-cb6d-4912-a771-18e21909a192",
   "metadata": {},
   "source": [
    "Flask2-Assignment solution by-SADDAM ANSARI for PW-SKILLS during the data science masters program course."
   ]
  },
  {
   "cell_type": "code",
   "execution_count": null,
   "id": "8c3ba4f6-5874-4bb1-90f9-3dd81117a9c3",
   "metadata": {},
   "outputs": [],
   "source": []
  },
  {
   "cell_type": "markdown",
   "id": "84633047-983d-4961-a21f-a57ee59eeef4",
   "metadata": {},
   "source": [
    "Q1. Explain GET and POST methods."
   ]
  },
  {
   "cell_type": "markdown",
   "id": "b1723460-4b30-4f3e-9dee-26da8674dfaf",
   "metadata": {},
   "source": [
    "* GET Method: GET is an HTTP method used for retrieving or requesting data from a specified resource.\n",
    "\n",
    "* POST Method: POST is an HTTP method used for sending data to the server to create or update a resource."
   ]
  },
  {
   "cell_type": "code",
   "execution_count": null,
   "id": "02122c36-f469-4009-8158-158117ad3344",
   "metadata": {},
   "outputs": [],
   "source": []
  },
  {
   "cell_type": "markdown",
   "id": "b264cd83-8dfa-42a8-8d28-e0313c9c5d99",
   "metadata": {},
   "source": [
    "Q2. Why is request used in Flask?"
   ]
  },
  {
   "cell_type": "markdown",
   "id": "f69eb543-f956-4e66-9018-72cd3ca485db",
   "metadata": {},
   "source": [
    "request object in Flask, you can extract and process information from client requests, enabling you to build dynamic and interactive web applications that respond to user input and interact with data. It plays a crucial role in handling client-server communication and allows you to access and manipulate various components of the HTTP request."
   ]
  },
  {
   "cell_type": "code",
   "execution_count": null,
   "id": "b094d074-cce5-4057-85af-dd978c85bcc9",
   "metadata": {},
   "outputs": [],
   "source": []
  },
  {
   "cell_type": "markdown",
   "id": "64c263e3-bccf-41f8-a47f-20c9d66d2e29",
   "metadata": {},
   "source": [
    "Q3. Why is redirect() used in Flask?"
   ]
  },
  {
   "cell_type": "markdown",
   "id": "8e32df37-4004-43f6-a120-cc2df4635d33",
   "metadata": {},
   "source": [
    "redirect() function in Flask provides a way to control the user's navigation within the application, allowing for dynamic routing and smooth user experiences. It helps in managing the flow of the application and ensures that users are directed to the appropriate pages or routes based on their actions or specific conditions."
   ]
  },
  {
   "cell_type": "code",
   "execution_count": null,
   "id": "e842e09b-9b32-40d0-9f09-aba4bb79c622",
   "metadata": {},
   "outputs": [],
   "source": []
  },
  {
   "cell_type": "markdown",
   "id": "10d1e89b-cb4a-4588-922c-5e2738b4a6a4",
   "metadata": {},
   "source": [
    "Q4. What are templates in Flask? Why is the render_template() function used?"
   ]
  },
  {
   "cell_type": "markdown",
   "id": "cc3f7fdd-7f14-41ee-a899-a4cea9ca58ae",
   "metadata": {},
   "source": [
    "* Templates in Flask are files that contain a mix of HTML, CSS, and dynamic placeholders (variables or expressions) that are used to generate dynamic web pages. They provide a way to separate the presentation logic from the application logic, making it easier to manage and organize the content of a web application.\n",
    "\n",
    "* The render_template() function in Flask is used to render a template and generate the corresponding HTML page that will be sent to the client's browser. It takes the name of the template file as an argument and can also pass additional data to the template for rendering.\n"
   ]
  },
  {
   "cell_type": "code",
   "execution_count": null,
   "id": "3f6757c3-d71e-437b-9134-e35887b53464",
   "metadata": {},
   "outputs": [],
   "source": []
  },
  {
   "cell_type": "markdown",
   "id": "85c338cb-1840-473f-ae8e-bbb038b41623",
   "metadata": {},
   "source": [
    "Q5. Create a simple API. Use Postman to test it. Attach the screenshot of the output in the Jupyter Notebook."
   ]
  },
  {
   "cell_type": "markdown",
   "id": "9a42b3f6-88e7-44b1-a2cb-191ac8e50aa4",
   "metadata": {},
   "source": [
    "sorry to say that this question are note made by me."
   ]
  },
  {
   "cell_type": "code",
   "execution_count": null,
   "id": "b5e3e1d3-74ca-4eb4-bdf2-21ea4fe592dc",
   "metadata": {},
   "outputs": [],
   "source": []
  },
  {
   "cell_type": "markdown",
   "id": "dd10537b-cb79-402f-86f8-60318a3d1421",
   "metadata": {},
   "source": [
    "* BY- SADDAM ANSARI\n",
    "* PLACE- SAHASA\n",
    "* DATE- 13/07/2023"
   ]
  },
  {
   "cell_type": "code",
   "execution_count": null,
   "id": "23345954-bc0a-4b5f-863b-f464aad23438",
   "metadata": {},
   "outputs": [],
   "source": []
  }
 ],
 "metadata": {
  "kernelspec": {
   "display_name": "Python 3 (ipykernel)",
   "language": "python",
   "name": "python3"
  },
  "language_info": {
   "codemirror_mode": {
    "name": "ipython",
    "version": 3
   },
   "file_extension": ".py",
   "mimetype": "text/x-python",
   "name": "python",
   "nbconvert_exporter": "python",
   "pygments_lexer": "ipython3",
   "version": "3.10.8"
  }
 },
 "nbformat": 4,
 "nbformat_minor": 5
}
